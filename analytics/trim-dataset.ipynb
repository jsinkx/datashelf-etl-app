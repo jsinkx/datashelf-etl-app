{
 "cells": [
  {
   "cell_type": "markdown",
   "id": "aa5e2b6d",
   "metadata": {},
   "source": []
  },
  {
   "cell_type": "code",
   "execution_count": 10,
   "id": "cf7ce8d9",
   "metadata": {},
   "outputs": [],
   "source": [
    "import pandas as pd\n",
    "\n",
    "import os"
   ]
  },
  {
   "cell_type": "code",
   "execution_count": 11,
   "id": "88e54e29",
   "metadata": {},
   "outputs": [],
   "source": [
    "DATA_PATH = './data'\n",
    "DATASET_PATH = f'{DATA_PATH}/retail_transactions_dataset.csv'"
   ]
  },
  {
   "cell_type": "code",
   "execution_count": 12,
   "id": "606267b7",
   "metadata": {},
   "outputs": [
    {
     "name": "stdout",
     "output_type": "stream",
     "text": [
      "Trimmed dataset saved to: ./data/trimmed_1000_retail_transactions_dataset.csv\n"
     ]
    }
   ],
   "source": [
    "NUM_ROWS = 1000\n",
    "\n",
    "\n",
    "BASE_NAME = os.path.basename(DATASET_PATH)\n",
    "NEW_FILENAME = f\"trimmed_{NUM_ROWS}_{BASE_NAME}\"\n",
    "NEW_PATH = os.path.join(os.path.dirname(DATASET_PATH), NEW_FILENAME)\n",
    "\n",
    "\n",
    "df = pd.read_csv(DATASET_PATH)\n",
    "df_trimmed = df.head(NUM_ROWS)\n",
    "\n",
    "df_trimmed.to_csv(NEW_PATH, index=False)\n",
    "\n",
    "print(f\"Trimmed dataset saved to: {NEW_PATH}\")"
   ]
  }
 ],
 "metadata": {
  "kernelspec": {
   "display_name": "venv",
   "language": "python",
   "name": "python3"
  },
  "language_info": {
   "codemirror_mode": {
    "name": "ipython",
    "version": 3
   },
   "file_extension": ".py",
   "mimetype": "text/x-python",
   "name": "python",
   "nbconvert_exporter": "python",
   "pygments_lexer": "ipython3",
   "version": "3.10.17"
  }
 },
 "nbformat": 4,
 "nbformat_minor": 5
}
